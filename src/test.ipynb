{
 "cells": [
  {
   "cell_type": "code",
   "execution_count": 16,
   "id": "b8cbfd6b",
   "metadata": {},
   "outputs": [],
   "source": [
    "import requests\n",
    "url = 'https://raw.githubusercontent.com/karpathy/char-rnn/master/data/tinyshakespeare/input.txt'\n",
    "input_text = requests.get(url).text"
   ]
  },
  {
   "cell_type": "code",
   "execution_count": 17,
   "id": "9fe23337",
   "metadata": {},
   "outputs": [],
   "source": [
    "with open(\"./data/input_text.txt\",'w') as f:\n",
    "    f.write(input_text)"
   ]
  },
  {
   "cell_type": "code",
   "execution_count": 11,
   "id": "17f11a59",
   "metadata": {},
   "outputs": [],
   "source": [
    "with open(\"./data/dataset.txt\",'r') as f:\n",
    "    text = f.read()"
   ]
  },
  {
   "cell_type": "code",
   "execution_count": 14,
   "id": "7c74ef61",
   "metadata": {},
   "outputs": [],
   "source": [
    "from tiktoken import get_encoding\n",
    "enc = get_encoding('gpt2')\n",
    "tokens = enc.encode(text)"
   ]
  },
  {
   "cell_type": "code",
   "execution_count": 16,
   "id": "5b37bd42",
   "metadata": {},
   "outputs": [
    {
     "data": {
      "text/plain": [
       "338025"
      ]
     },
     "execution_count": 16,
     "metadata": {},
     "output_type": "execute_result"
    }
   ],
   "source": [
    "len(tokens)"
   ]
  },
  {
   "cell_type": "code",
   "execution_count": 10,
   "id": "75da9c58",
   "metadata": {},
   "outputs": [
    {
     "data": {
      "text/plain": [
       "50257"
      ]
     },
     "execution_count": 10,
     "metadata": {},
     "output_type": "execute_result"
    }
   ],
   "source": [
    "enc.n_vocab"
   ]
  }
 ],
 "metadata": {
  "kernelspec": {
   "display_name": "gpt-implementation",
   "language": "python",
   "name": "python3"
  },
  "language_info": {
   "codemirror_mode": {
    "name": "ipython",
    "version": 3
   },
   "file_extension": ".py",
   "mimetype": "text/x-python",
   "name": "python",
   "nbconvert_exporter": "python",
   "pygments_lexer": "ipython3",
   "version": "3.11.9"
  }
 },
 "nbformat": 4,
 "nbformat_minor": 5
}
