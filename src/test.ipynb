{
 "cells": [
  {
   "cell_type": "code",
   "execution_count": 16,
   "id": "b8cbfd6b",
   "metadata": {},
   "outputs": [],
   "source": [
    "import requests\n",
    "url = 'https://raw.githubusercontent.com/karpathy/char-rnn/master/data/tinyshakespeare/input.txt'\n",
    "input_text = requests.get(url).text"
   ]
  },
  {
   "cell_type": "code",
   "execution_count": 17,
   "id": "9fe23337",
   "metadata": {},
   "outputs": [],
   "source": [
    "with open(\"./data/input_text.txt\",'w') as f:\n",
    "    f.write(input_text)"
   ]
  },
  {
   "cell_type": "code",
   "execution_count": 11,
   "id": "17f11a59",
   "metadata": {},
   "outputs": [],
   "source": [
    "with open(\"./data/dataset.txt\",'r') as f:\n",
    "    text = f.read()"
   ]
  },
  {
   "cell_type": "code",
   "execution_count": null,
   "id": "efc6d07e",
   "metadata": {},
   "outputs": [],
   "source": [
    "import torch\n",
    "x = torch.zeros((3,2,4))\n",
    "x.transpose()"
   ]
  },
  {
   "cell_type": "code",
   "execution_count": null,
   "id": "ad0f2f12",
   "metadata": {},
   "outputs": [],
   "source": [
    "[*() for i in ran]"
   ]
  },
  {
   "cell_type": "code",
   "execution_count": 16,
   "id": "e58aae68",
   "metadata": {},
   "outputs": [
    {
     "data": {
      "text/plain": [
       "torch.Size([2, 4])"
      ]
     },
     "execution_count": 16,
     "metadata": {},
     "output_type": "execute_result"
    }
   ],
   "source": [
    "a.shape"
   ]
  }
 ],
 "metadata": {
  "kernelspec": {
   "display_name": "gpt-implementation",
   "language": "python",
   "name": "python3"
  },
  "language_info": {
   "codemirror_mode": {
    "name": "ipython",
    "version": 3
   },
   "file_extension": ".py",
   "mimetype": "text/x-python",
   "name": "python",
   "nbconvert_exporter": "python",
   "pygments_lexer": "ipython3",
   "version": "3.11.9"
  }
 },
 "nbformat": 4,
 "nbformat_minor": 5
}
