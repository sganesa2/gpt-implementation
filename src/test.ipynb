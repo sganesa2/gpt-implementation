{
 "cells": [
  {
   "cell_type": "code",
   "execution_count": 16,
   "id": "b8cbfd6b",
   "metadata": {},
   "outputs": [],
   "source": [
    "import requests\n",
    "url = 'https://raw.githubusercontent.com/karpathy/char-rnn/master/data/tinyshakespeare/input.txt'\n",
    "input_text = requests.get(url).text"
   ]
  },
  {
   "cell_type": "code",
   "execution_count": 17,
   "id": "9fe23337",
   "metadata": {},
   "outputs": [],
   "source": [
    "with open(\"./data/input_text.txt\",'w') as f:\n",
    "    f.write(input_text)"
   ]
  },
  {
   "cell_type": "code",
   "execution_count": 11,
   "id": "17f11a59",
   "metadata": {},
   "outputs": [],
   "source": [
    "with open(\"./data/dataset.txt\",'r') as f:\n",
    "    text = f.read()"
   ]
  },
  {
   "cell_type": "code",
   "execution_count": 14,
   "id": "7c74ef61",
   "metadata": {},
   "outputs": [],
   "source": [
    "from tiktoken import get_encoding\n",
    "enc = get_encoding('gpt2')\n",
    "tokens = enc.encode(text)"
   ]
  },
  {
   "cell_type": "code",
   "execution_count": 16,
   "id": "5b37bd42",
   "metadata": {},
   "outputs": [
    {
     "data": {
      "text/plain": [
       "338025"
      ]
     },
     "execution_count": 16,
     "metadata": {},
     "output_type": "execute_result"
    }
   ],
   "source": [
    "len(tokens)"
   ]
  },
  {
   "cell_type": "code",
   "execution_count": 2,
   "id": "75da9c58",
   "metadata": {},
   "outputs": [
    {
     "data": {
      "text/plain": [
       "[[0.23364101350307465, 1.754477858543396],\n",
       " [-0.3415411114692688, -2.3529651165008545],\n",
       " [0.84199059009552, 0.8527445793151855]]"
      ]
     },
     "execution_count": 2,
     "metadata": {},
     "output_type": "execute_result"
    }
   ],
   "source": [
    "import torch\n",
    "torch.backends.mps.is_available()\n",
    "x = torch.randn(3,2)\n",
    "x.tolist()"
   ]
  },
  {
   "cell_type": "code",
   "execution_count": 12,
   "id": "f7b7cc0e",
   "metadata": {},
   "outputs": [
    {
     "data": {
      "text/plain": [
       "[1, 23]"
      ]
     },
     "execution_count": 12,
     "metadata": {},
     "output_type": "execute_result"
    }
   ],
   "source": [
    "from itertools import chain\n",
    "a = [[1,23]]\n",
    "list(chain.from_iterable(a))"
   ]
  },
  {
   "cell_type": "code",
   "execution_count": 3,
   "id": "83d3ed5d",
   "metadata": {},
   "outputs": [
    {
     "data": {
      "text/plain": [
       "3"
      ]
     },
     "execution_count": 3,
     "metadata": {},
     "output_type": "execute_result"
    }
   ],
   "source": [
    "ta = torch.tensor([1,2,3])\n",
    "len(ta)"
   ]
  },
  {
   "cell_type": "code",
   "execution_count": null,
   "id": "962cdc24",
   "metadata": {},
   "outputs": [],
   "source": [
    "torch.frac()"
   ]
  }
 ],
 "metadata": {
  "kernelspec": {
   "display_name": "gpt-implementation",
   "language": "python",
   "name": "python3"
  },
  "language_info": {
   "codemirror_mode": {
    "name": "ipython",
    "version": 3
   },
   "file_extension": ".py",
   "mimetype": "text/x-python",
   "name": "python",
   "nbconvert_exporter": "python",
   "pygments_lexer": "ipython3",
   "version": "3.11.9"
  }
 },
 "nbformat": 4,
 "nbformat_minor": 5
}
